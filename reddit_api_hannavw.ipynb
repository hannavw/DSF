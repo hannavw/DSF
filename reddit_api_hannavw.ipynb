{
 "cells": [
  {
   "cell_type": "code",
   "execution_count": 1,
   "metadata": {},
   "outputs": [],
   "source": [
    "import praw\n",
    "import pandas as pd\n",
    "import time\n",
    "import matplotlib.pyplot as plt"
   ]
  },
  {
   "cell_type": "code",
   "execution_count": 2,
   "metadata": {},
   "outputs": [],
   "source": [
    "CLIENT_ID = \"instert-client_id\"\n",
    "CLIENT_SECRET = \"insert_client_secret\"\n",
    "USER_AGENT = f'python:{CLIENT_ID}:0.1 (by / u/insert_user_agent)'"
   ]
  },
  {
   "cell_type": "code",
   "execution_count": 3,
   "metadata": {},
   "outputs": [],
   "source": [
    "api = praw.Reddit(\n",
    "    client_id = CLIENT_ID,\n",
    "    client_secret = CLIENT_SECRET,\n",
    "    user_agent = USER_AGENT\n",
    "    )"
   ]
  },
  {
   "cell_type": "code",
   "execution_count": 4,
   "metadata": {},
   "outputs": [],
   "source": [
    "# Transform the submissions in a new list with a dictionary per submission.\n",
    "submissions = api.subreddit(\"lifehacks\").hot(limit = 500)\n",
    "items = []\n",
    "\n",
    "for submission in submissions:\n",
    "    item = {\n",
    "        \"author\" : submission.author,\n",
    "        \"time\" : time.ctime(submission.created),\n",
    "        \"score\" : submission.score,\n",
    "        \"comments\" : submission.num_comments,\n",
    "        \"title\" : submission.title,\n",
    "        \"id\" : submission.id\n",
    "    }\n",
    "    items.append(item)"
   ]
  },
  {
   "cell_type": "code",
   "execution_count": 5,
   "metadata": {},
   "outputs": [
    {
     "data": {
      "text/html": [
       "<div>\n",
       "<style scoped>\n",
       "    .dataframe tbody tr th:only-of-type {\n",
       "        vertical-align: middle;\n",
       "    }\n",
       "\n",
       "    .dataframe tbody tr th {\n",
       "        vertical-align: top;\n",
       "    }\n",
       "\n",
       "    .dataframe thead th {\n",
       "        text-align: right;\n",
       "    }\n",
       "</style>\n",
       "<table border=\"1\" class=\"dataframe\">\n",
       "  <thead>\n",
       "    <tr style=\"text-align: right;\">\n",
       "      <th></th>\n",
       "      <th>author</th>\n",
       "      <th>comments</th>\n",
       "      <th>id</th>\n",
       "      <th>score</th>\n",
       "      <th>time</th>\n",
       "      <th>title</th>\n",
       "    </tr>\n",
       "  </thead>\n",
       "  <tbody>\n",
       "    <tr>\n",
       "      <th>0</th>\n",
       "      <td>bcornello</td>\n",
       "      <td>163</td>\n",
       "      <td>9qk5k0</td>\n",
       "      <td>433</td>\n",
       "      <td>Tue Oct 23 11:19:06 2018</td>\n",
       "      <td>I made an app that helps people find the perfe...</td>\n",
       "    </tr>\n",
       "    <tr>\n",
       "      <th>1</th>\n",
       "      <td>Dumbodonkus</td>\n",
       "      <td>508</td>\n",
       "      <td>9q9g5b</td>\n",
       "      <td>8319</td>\n",
       "      <td>Mon Oct 22 12:12:51 2018</td>\n",
       "      <td>How to get the butter to the bottom of the pop...</td>\n",
       "    </tr>\n",
       "    <tr>\n",
       "      <th>2</th>\n",
       "      <td>moonordie</td>\n",
       "      <td>0</td>\n",
       "      <td>9qnr7g</td>\n",
       "      <td>0</td>\n",
       "      <td>Tue Oct 23 20:43:17 2018</td>\n",
       "      <td>If you're on a date and bad with names</td>\n",
       "    </tr>\n",
       "    <tr>\n",
       "      <th>3</th>\n",
       "      <td>Cerberus1349</td>\n",
       "      <td>97</td>\n",
       "      <td>9q3zdj</td>\n",
       "      <td>3522</td>\n",
       "      <td>Mon Oct 22 00:38:53 2018</td>\n",
       "      <td>Taking a pizza a long way home? Use one of tho...</td>\n",
       "    </tr>\n",
       "    <tr>\n",
       "      <th>4</th>\n",
       "      <td>dkepp87</td>\n",
       "      <td>9</td>\n",
       "      <td>9qk0lm</td>\n",
       "      <td>2</td>\n",
       "      <td>Tue Oct 23 11:01:20 2018</td>\n",
       "      <td>Anyone know a hack for a makeshift zipper inse...</td>\n",
       "    </tr>\n",
       "  </tbody>\n",
       "</table>\n",
       "</div>"
      ],
      "text/plain": [
       "         author  comments      id  score                      time  \\\n",
       "0     bcornello       163  9qk5k0    433  Tue Oct 23 11:19:06 2018   \n",
       "1   Dumbodonkus       508  9q9g5b   8319  Mon Oct 22 12:12:51 2018   \n",
       "2     moonordie         0  9qnr7g      0  Tue Oct 23 20:43:17 2018   \n",
       "3  Cerberus1349        97  9q3zdj   3522  Mon Oct 22 00:38:53 2018   \n",
       "4       dkepp87         9  9qk0lm      2  Tue Oct 23 11:01:20 2018   \n",
       "\n",
       "                                               title  \n",
       "0  I made an app that helps people find the perfe...  \n",
       "1  How to get the butter to the bottom of the pop...  \n",
       "2             If you're on a date and bad with names  \n",
       "3  Taking a pizza a long way home? Use one of tho...  \n",
       "4  Anyone know a hack for a makeshift zipper inse...  "
      ]
     },
     "execution_count": 5,
     "metadata": {},
     "output_type": "execute_result"
    }
   ],
   "source": [
    "# Create DataFrame and show the first 5 items.\n",
    "df = pd.DataFrame(items)\n",
    "df.head()"
   ]
  },
  {
   "cell_type": "code",
   "execution_count": 6,
   "metadata": {},
   "outputs": [
    {
     "data": {
      "text/plain": [
       "MagicCards_youtube    10\n",
       "Mari1aAW               4\n",
       "curlysass              3\n",
       "Phire_free             3\n",
       "geekman20              3\n",
       "EasyBusyLA             3\n",
       "TiltedArc              2\n",
       "scarymum               2\n",
       "randomusefulbits       2\n",
       "yesnoornext            2\n",
       "Name: author, dtype: int64"
      ]
     },
     "execution_count": 6,
     "metadata": {},
     "output_type": "execute_result"
    }
   ],
   "source": [
    "#Count the number of submissions by author in the dataframe and show the first 10.\n",
    "df_count = df[\"author\"].value_counts().head(10)\n",
    "df_count"
   ]
  },
  {
   "cell_type": "code",
   "execution_count": 102,
   "metadata": {},
   "outputs": [
    {
     "data": {
      "image/png": "[encoded data removed]",
      "text/plain": [
       "<Figure size 432x288 with 1 Axes>"
      ]
     },
     "metadata": {},
     "output_type": "display_data"
    }
   ],
   "source": [
    "#Plot a histogram with ten bins for both the comment count and score of all the submissions.\n",
    "\n",
    "x = df[\"comments\"]\n",
    "y = df[\"score\"]\n",
    "bins = 10\n",
    "\n",
    "plt.hist([x, y], bins, label=['comments', 'score'])\n",
    "plt.legend(loc='upper right')\n",
    "plt.show()"
   ]
  },
  {
   "cell_type": "code",
   "execution_count": 8,
   "metadata": {},
   "outputs": [
    {
     "data": {
      "text/plain": [
       "<matplotlib.axes._subplots.AxesSubplot at 0x1c71cdd9160>"
      ]
     },
     "execution_count": 8,
     "metadata": {},
     "output_type": "execute_result"
    },
    {
     "data": {
      "image/png": "[encoded data removed]",
      "text/plain": [
       "<Figure size 432x288 with 1 Axes>"
      ]
     },
     "metadata": {},
     "output_type": "display_data"
    }
   ],
   "source": [
    "df[\"hours\"] = df[\"time\"].str[11:13]\n",
    "\n",
    "# Convert object to numeric\n",
    "df.hours = pd.to_numeric(df.hours)\n",
    "\n",
    "# Plot the comments per hour\n",
    "df[0:24].plot (y = \"hours\")"
   ]
  },
  {
   "cell_type": "code",
   "execution_count": 9,
   "metadata": {},
   "outputs": [
    {
     "data": {
      "text/html": [
       "<div>\n",
       "<style scoped>\n",
       "    .dataframe tbody tr th:only-of-type {\n",
       "        vertical-align: middle;\n",
       "    }\n",
       "\n",
       "    .dataframe tbody tr th {\n",
       "        vertical-align: top;\n",
       "    }\n",
       "\n",
       "    .dataframe thead th {\n",
       "        text-align: right;\n",
       "    }\n",
       "</style>\n",
       "<table border=\"1\" class=\"dataframe\">\n",
       "  <thead>\n",
       "    <tr style=\"text-align: right;\">\n",
       "      <th></th>\n",
       "      <th>author</th>\n",
       "      <th>comments</th>\n",
       "      <th>id</th>\n",
       "      <th>score</th>\n",
       "      <th>time</th>\n",
       "      <th>title</th>\n",
       "      <th>hours</th>\n",
       "    </tr>\n",
       "  </thead>\n",
       "  <tbody>\n",
       "    <tr>\n",
       "      <th>415</th>\n",
       "      <td>ZZbrew</td>\n",
       "      <td>1148</td>\n",
       "      <td>9cd4ix</td>\n",
       "      <td>51661</td>\n",
       "      <td>Mon Sep  3 02:01:29 2018</td>\n",
       "      <td>I wanted natural light in a basement that has ...</td>\n",
       "      <td>2</td>\n",
       "    </tr>\n",
       "  </tbody>\n",
       "</table>\n",
       "</div>"
      ],
      "text/plain": [
       "     author  comments      id  score                      time  \\\n",
       "415  ZZbrew      1148  9cd4ix  51661  Mon Sep  3 02:01:29 2018   \n",
       "\n",
       "                                                 title  hours  \n",
       "415  I wanted natural light in a basement that has ...      2  "
      ]
     },
     "execution_count": 9,
     "metadata": {},
     "output_type": "execute_result"
    }
   ],
   "source": [
    "#Get the submission with the most comments and for that submission, get the comments, \n",
    "#and transform those into a DataFrame containing the comment's author name and score. \n",
    "#Note that you need to take into account the 'MoreComments' instances (look in the \n",
    "#examples notebook) and that some comments might not have an author. Display the first \n",
    "#five items in this new dataframe.\n",
    "\n",
    "author_most_comments = df.sort_values(\"comments\").tail(1)\n",
    "author_most_comments"
   ]
  },
  {
   "cell_type": "code",
   "execution_count": 10,
   "metadata": {},
   "outputs": [],
   "source": [
    "# Get the id from the author with the most comments.\n",
    "id_comments = author_most_comments[\"id\"]\n",
    "id_comments = list(id_comments)\n",
    "id_comments = id_comments[0]"
   ]
  },
  {
   "cell_type": "code",
   "execution_count": 54,
   "metadata": {},
   "outputs": [
    {
     "data": {
      "text/html": [
       "<div>\n",
       "<style scoped>\n",
       "    .dataframe tbody tr th:only-of-type {\n",
       "        vertical-align: middle;\n",
       "    }\n",
       "\n",
       "    .dataframe tbody tr th {\n",
       "        vertical-align: top;\n",
       "    }\n",
       "\n",
       "    .dataframe thead th {\n",
       "        text-align: right;\n",
       "    }\n",
       "</style>\n",
       "<table border=\"1\" class=\"dataframe\">\n",
       "  <thead>\n",
       "    <tr style=\"text-align: right;\">\n",
       "      <th></th>\n",
       "      <th>author</th>\n",
       "      <th>body</th>\n",
       "      <th>score</th>\n",
       "    </tr>\n",
       "  </thead>\n",
       "  <tbody>\n",
       "    <tr>\n",
       "      <th>0</th>\n",
       "      <td>SnowyTom</td>\n",
       "      <td>If you used RGB LEDs that are able to change c...</td>\n",
       "      <td>6775</td>\n",
       "    </tr>\n",
       "    <tr>\n",
       "      <th>1</th>\n",
       "      <td>stimulatedneuron</td>\n",
       "      <td>My uncle has something similar installed in th...</td>\n",
       "      <td>1857</td>\n",
       "    </tr>\n",
       "    <tr>\n",
       "      <th>2</th>\n",
       "      <td>bimmer123</td>\n",
       "      <td>Marion's Piazza in the Dayton, OH area does th...</td>\n",
       "      <td>367</td>\n",
       "    </tr>\n",
       "    <tr>\n",
       "      <th>3</th>\n",
       "      <td>SarkastikAmbassador</td>\n",
       "      <td>Not sure if this would quell or contribute to ...</td>\n",
       "      <td>727</td>\n",
       "    </tr>\n",
       "    <tr>\n",
       "      <th>4</th>\n",
       "      <td>securicorscares</td>\n",
       "      <td>Dangerous. Like when we carpeted the garage an...</td>\n",
       "      <td>102</td>\n",
       "    </tr>\n",
       "  </tbody>\n",
       "</table>\n",
       "</div>"
      ],
      "text/plain": [
       "                author                                               body  \\\n",
       "0             SnowyTom  If you used RGB LEDs that are able to change c...   \n",
       "1     stimulatedneuron  My uncle has something similar installed in th...   \n",
       "2            bimmer123  Marion's Piazza in the Dayton, OH area does th...   \n",
       "3  SarkastikAmbassador  Not sure if this would quell or contribute to ...   \n",
       "4      securicorscares  Dangerous. Like when we carpeted the garage an...   \n",
       "\n",
       "   score  \n",
       "0   6775  \n",
       "1   1857  \n",
       "2    367  \n",
       "3    727  \n",
       "4    102  "
      ]
     },
     "execution_count": 54,
     "metadata": {},
     "output_type": "execute_result"
    }
   ],
   "source": [
    "# Create a new Pandas dataframe with the comments in a list and show the first five items.\n",
    "\n",
    "most_comments = []\n",
    "\n",
    "for comment in api.submission(id = id_comments).comments:\n",
    "    if isinstance(comment, praw.models.MoreComments):\n",
    "        continue\n",
    "    most_comments.append({\n",
    "        \"body\" : comment.body,\n",
    "        \"score\" : comment.score,\n",
    "        \"author\" : str(comment.author) #convert author to string\n",
    "    })\n",
    "    \n",
    "df_mostcomments = pd.DataFrame(most_comments)\n",
    "df_mostcomments.head()"
   ]
  },
  {
   "cell_type": "code",
   "execution_count": 98,
   "metadata": {},
   "outputs": [
    {
     "data": {
      "text/plain": [
       "author\n",
       "SnowyTom               6775\n",
       "stimulatedneuron       1857\n",
       "SarkastikAmbassador     727\n",
       "bimmer123               367\n",
       "ResorbedTwin            350\n",
       "Name: score, dtype: int64"
      ]
     },
     "execution_count": 98,
     "metadata": {},
     "output_type": "execute_result"
    }
   ],
   "source": [
    "# Use groupby to group the authors and make a sum of the scores per author\n",
    "df_sumcomments = df_mostcomments.groupby(\"author\")[\"score\"].sum().sort_values(ascending = False)\n",
    "df_sumcomments.head()"
   ]
  },
  {
   "cell_type": "code",
   "execution_count": 101,
   "metadata": {},
   "outputs": [
    {
     "data": {
      "text/plain": [
       "<matplotlib.axes._subplots.AxesSubplot at 0x1c71d2b0a90>"
      ]
     },
     "execution_count": 101,
     "metadata": {},
     "output_type": "execute_result"
    },
    {
     "data": {
      "image/png": "[encoded data removed]",
      "text/plain": [
       "<Figure size 432x288 with 1 Axes>"
      ]
     },
     "metadata": {},
     "output_type": "display_data"
    }
   ],
   "source": [
    "df_sumcomments[0:10].plot (kind = \"barh\", y = [\"score\"], title = \"Top 10 commenters with the highest summed scores\", x = \"author\")"
   ]
  }
 ],
 "metadata": {
  "kernelspec": {
   "display_name": "Python 3",
   "language": "python",
   "name": "python3"
  },
  "language_info": {
   "codemirror_mode": {
    "name": "ipython",
    "version": 3
   },
   "file_extension": ".py",
   "mimetype": "text/x-python",
   "name": "python",
   "nbconvert_exporter": "python",
   "pygments_lexer": "ipython3",
   "version": "3.6.5"
  }
 },
 "nbformat": 4,
 "nbformat_minor": 2
}
